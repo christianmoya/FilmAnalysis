{
 "cells": [
  {
   "cell_type": "markdown",
   "metadata": {},
   "source": [
    "## Final Project Submission\n",
    "\n",
    "Please fill out:\n",
    "* Student name: \n",
    "* Student pace: self paced / part time / full time\n",
    "* Scheduled project review date/time: \n",
    "* Instructor name: \n",
    "* Blog post URL:\n"
   ]
  },
  {
   "cell_type": "code",
   "execution_count": 1,
   "metadata": {},
   "outputs": [],
   "source": [
    "import pandas as pd\n",
    "import matplotlib.pyplot as plt\n",
    "import xlrd\n",
    "import seaborn as sns\n",
    "%matplotlib inline\n",
    "%matplotlib notebook\n",
    "\n",
    "df = pd.read_excel('1000GreatestFilms copy 2.xls')\n",
    "df2 = pd.read_csv('best_picture copy 2.csv')\n",
    "\n"
   ]
  },
  {
   "cell_type": "code",
   "execution_count": 2,
   "metadata": {},
   "outputs": [],
   "source": [
    "#Function to create a new column in df that returns boolean value\n",
    "#if the film is a USA production or a production from another country\n",
    "#then replaces boolean value with a more descript descrition\n",
    "\n",
    "def international_film(text):\n",
    "    bool_val = 'USA' in text\n",
    "    return bool_val\n",
    "df['Domestic or International'] = df['Country'].map(international_film)\n",
    "df['Domestic or International'] = df['Domestic or International'].replace([True, False], ['Domestic', 'International'])\n",
    "        "
   ]
  },
  {
   "cell_type": "code",
   "execution_count": 3,
   "metadata": {},
   "outputs": [
    {
     "data": {
      "text/plain": [
       "International    552\n",
       "Domestic         448\n",
       "Name: Domestic or International, dtype: int64"
      ]
     },
     "execution_count": 3,
     "metadata": {},
     "output_type": "execute_result"
    }
   ],
   "source": [
    "df['Domestic or International'].value_counts()"
   ]
  },
  {
   "cell_type": "code",
   "execution_count": 4,
   "metadata": {},
   "outputs": [
    {
     "data": {
      "text/html": [
       "<div>\n",
       "<style scoped>\n",
       "    .dataframe tbody tr th:only-of-type {\n",
       "        vertical-align: middle;\n",
       "    }\n",
       "\n",
       "    .dataframe tbody tr th {\n",
       "        vertical-align: top;\n",
       "    }\n",
       "\n",
       "    .dataframe thead th {\n",
       "        text-align: right;\n",
       "    }\n",
       "</style>\n",
       "<table border=\"1\" class=\"dataframe\">\n",
       "  <thead>\n",
       "    <tr style=\"text-align: right;\">\n",
       "      <th></th>\n",
       "      <th>Pos</th>\n",
       "      <th>2019</th>\n",
       "      <th>2018</th>\n",
       "      <th>Title</th>\n",
       "      <th>Director</th>\n",
       "      <th>Year</th>\n",
       "      <th>Country</th>\n",
       "      <th>Length</th>\n",
       "      <th>Genre</th>\n",
       "      <th>Colour</th>\n",
       "      <th>Domestic or International</th>\n",
       "    </tr>\n",
       "  </thead>\n",
       "  <tbody>\n",
       "    <tr>\n",
       "      <th>0</th>\n",
       "      <td>1</td>\n",
       "      <td>1</td>\n",
       "      <td>1</td>\n",
       "      <td>Citizen Kane</td>\n",
       "      <td>Welles, Orson</td>\n",
       "      <td>1941</td>\n",
       "      <td>USA</td>\n",
       "      <td>119</td>\n",
       "      <td>Drama-Mystery</td>\n",
       "      <td>BW</td>\n",
       "      <td>Domestic</td>\n",
       "    </tr>\n",
       "    <tr>\n",
       "      <th>1</th>\n",
       "      <td>2</td>\n",
       "      <td>2</td>\n",
       "      <td>2</td>\n",
       "      <td>Vertigo</td>\n",
       "      <td>Hitchcock, Alfred</td>\n",
       "      <td>1958</td>\n",
       "      <td>USA</td>\n",
       "      <td>128</td>\n",
       "      <td>Thriller-Drama-Mystery</td>\n",
       "      <td>Col</td>\n",
       "      <td>Domestic</td>\n",
       "    </tr>\n",
       "    <tr>\n",
       "      <th>2</th>\n",
       "      <td>3</td>\n",
       "      <td>3</td>\n",
       "      <td>3</td>\n",
       "      <td>2001: A Space Odyssey</td>\n",
       "      <td>Kubrick, Stanley</td>\n",
       "      <td>1968</td>\n",
       "      <td>UK-USA</td>\n",
       "      <td>139</td>\n",
       "      <td>Science Fiction</td>\n",
       "      <td>Col</td>\n",
       "      <td>Domestic</td>\n",
       "    </tr>\n",
       "    <tr>\n",
       "      <th>3</th>\n",
       "      <td>4</td>\n",
       "      <td>4</td>\n",
       "      <td>4</td>\n",
       "      <td>Rules of the Game, The</td>\n",
       "      <td>Renoir, Jean</td>\n",
       "      <td>1939</td>\n",
       "      <td>France</td>\n",
       "      <td>113</td>\n",
       "      <td>Drama-Comedy</td>\n",
       "      <td>BW</td>\n",
       "      <td>International</td>\n",
       "    </tr>\n",
       "    <tr>\n",
       "      <th>4</th>\n",
       "      <td>5</td>\n",
       "      <td>5</td>\n",
       "      <td>5</td>\n",
       "      <td>Tokyo Story</td>\n",
       "      <td>Ozu, Yasujiro</td>\n",
       "      <td>1953</td>\n",
       "      <td>Japan</td>\n",
       "      <td>134</td>\n",
       "      <td>Drama</td>\n",
       "      <td>BW</td>\n",
       "      <td>International</td>\n",
       "    </tr>\n",
       "  </tbody>\n",
       "</table>\n",
       "</div>"
      ],
      "text/plain": [
       "   Pos 2019 2018                   Title           Director  Year Country  \\\n",
       "0    1    1    1            Citizen Kane      Welles, Orson  1941     USA   \n",
       "1    2    2    2                 Vertigo  Hitchcock, Alfred  1958     USA   \n",
       "2    3    3    3   2001: A Space Odyssey   Kubrick, Stanley  1968  UK-USA   \n",
       "3    4    4    4  Rules of the Game, The       Renoir, Jean  1939  France   \n",
       "4    5    5    5             Tokyo Story      Ozu, Yasujiro  1953   Japan   \n",
       "\n",
       "   Length                   Genre Colour Domestic or International  \n",
       "0     119           Drama-Mystery     BW                  Domestic  \n",
       "1     128  Thriller-Drama-Mystery    Col                  Domestic  \n",
       "2     139         Science Fiction    Col                  Domestic  \n",
       "3     113            Drama-Comedy     BW             International  \n",
       "4     134                   Drama     BW             International  "
      ]
     },
     "execution_count": 4,
     "metadata": {},
     "output_type": "execute_result"
    }
   ],
   "source": [
    "df.head()"
   ]
  },
  {
   "cell_type": "code",
   "execution_count": 5,
   "metadata": {
    "scrolled": false
   },
   "outputs": [
    {
     "data": {
      "image/png": "[encoded data removed]",
      "text/plain": [
       "<Figure size 432x288 with 1 Axes>"
      ]
     },
     "metadata": {
      "needs_background": "light"
     },
     "output_type": "display_data"
    }
   ],
   "source": [
    "#Displays the total number of American films and non-American films on\n",
    "#the list\n",
    "\n",
    "plt.figure(figsize=(6, 4))\n",
    "plot_1 = sns.countplot(x = df['Domestic or International'], data = df, palette='Set2')\n",
    "plot_1.set(xlabel = \"Total Films\", ylabel = '# of appearances on list', title = '1000 Greatest Films of All Time')\n",
    "plt.savefig('total_films.pdf')\n",
    "plt.show()\n",
    "\n"
   ]
  },
  {
   "cell_type": "code",
   "execution_count": 6,
   "metadata": {},
   "outputs": [
    {
     "data": {
      "image/png": "[encoded data removed]",
      "text/plain": [
       "<Figure size 432x288 with 1 Axes>"
      ]
     },
     "metadata": {
      "needs_background": "light"
     },
     "output_type": "display_data"
    }
   ],
   "source": [
    "#Displays the top 4 non-American countries represented on the list\n",
    "\n",
    "plot_2 = sns.countplot(x = df['Country'], data = df, palette='Set3',\n",
    "             order=df.Country.value_counts().iloc[1:5].index)\n",
    "plot_2.set(xlabel = 'Country of Origin', ylabel = '# of appearances on list',\n",
    "              title = 'Top 4 Non-USA Films on 1000 Greatest Films of All Time')\n",
    "plt.savefig('Top_4_non_USA_films.pdf')\n",
    "plt.show()"
   ]
  },
  {
   "cell_type": "code",
   "execution_count": 13,
   "metadata": {},
   "outputs": [
    {
     "data": {
      "text/plain": [
       "<Figure size 720x576 with 0 Axes>"
      ]
     },
     "metadata": {},
     "output_type": "display_data"
    },
    {
     "data": {
      "image/png": "[encoded data removed]",
      "text/plain": [
       "<Figure size 360x360 with 1 Axes>"
      ]
     },
     "metadata": {
      "needs_background": "light"
     },
     "output_type": "display_data"
    }
   ],
   "source": [
    "#Display the years that an international film was nominated for Best Picture\n",
    "#at the Academy Awards\n",
    "plt.figure(figsize=(10, 8))\n",
    "plot_2 = sns.relplot(x='Film title used in nomination', y='Year', data=df2)\n",
    "plot_2.set(xlabel='Best Picture nominees',\n",
    "       ylabel='Year of Nomination', title = \"Years of International Best Picture Nominees\")\n",
    "plot_2.set_xticklabels(rotation=45, horizontalalignment='right')\n",
    "plt.tight_layout()\n",
    "plt.savefig('International_Best_Picture.pdf')\n",
    "plt.show()"
   ]
  },
  {
   "cell_type": "code",
   "execution_count": null,
   "metadata": {},
   "outputs": [],
   "source": []
  }
 ],
 "metadata": {
  "kernelspec": {
   "display_name": "Python 3",
   "language": "python",
   "name": "python3"
  },
  "language_info": {
   "codemirror_mode": {
    "name": "ipython",
    "version": 3
   },
   "file_extension": ".py",
   "mimetype": "text/x-python",
   "name": "python",
   "nbconvert_exporter": "python",
   "pygments_lexer": "ipython3",
   "version": "3.6.9"
  }
 },
 "nbformat": 4,
 "nbformat_minor": 2
}
